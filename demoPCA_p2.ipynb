{
 "cells": [
  {
   "cell_type": "code",
   "execution_count": 2,
   "metadata": {
    "collapsed": true
   },
   "outputs": [],
   "source": [
    "import numpy as np\n",
    "import pandas as pd\n",
    "import matplotlib.pylab as plt\n",
    "import numpy.matlib"
   ]
  },
  {
   "cell_type": "code",
   "execution_count": 3,
   "metadata": {
    "collapsed": true
   },
   "outputs": [],
   "source": [
    "sp = pd.read_csv(\"SP_2010__baby.csv\")"
   ]
  },
  {
   "cell_type": "code",
   "execution_count": 4,
   "metadata": {},
   "outputs": [
    {
     "name": "stdout",
     "output_type": "stream",
     "text": [
      "\n",
      " Input data has 436 observations and 11 variables.\n"
     ]
    }
   ],
   "source": [
    "sp_dim = sp.shape\n",
    "print(\"\\n Input data has \"+ str(sp_dim[0])+\" observations and \"+ str(sp_dim[1]) +\" variables.\")"
   ]
  },
  {
   "cell_type": "code",
   "execution_count": 5,
   "metadata": {},
   "outputs": [
    {
     "data": {
      "text/html": [
       "<div>\n",
       "<style>\n",
       "    .dataframe thead tr:only-child th {\n",
       "        text-align: right;\n",
       "    }\n",
       "\n",
       "    .dataframe thead th {\n",
       "        text-align: left;\n",
       "    }\n",
       "\n",
       "    .dataframe tbody tr th {\n",
       "        vertical-align: top;\n",
       "    }\n",
       "</style>\n",
       "<table border=\"1\" class=\"dataframe\">\n",
       "  <thead>\n",
       "    <tr style=\"text-align: right;\">\n",
       "      <th></th>\n",
       "      <th>Price</th>\n",
       "      <th>Earnings/Share</th>\n",
       "      <th>Book Value</th>\n",
       "      <th>52 week low</th>\n",
       "      <th>52 week high</th>\n",
       "      <th>Market Cap</th>\n",
       "      <th>EBITDA</th>\n",
       "      <th>Price/Sales</th>\n",
       "    </tr>\n",
       "  </thead>\n",
       "  <tbody>\n",
       "    <tr>\n",
       "      <th>count</th>\n",
       "      <td>436.000000</td>\n",
       "      <td>436.000000</td>\n",
       "      <td>436.000000</td>\n",
       "      <td>436.000000</td>\n",
       "      <td>436.00000</td>\n",
       "      <td>436.000000</td>\n",
       "      <td>436.000000</td>\n",
       "      <td>436.000000</td>\n",
       "    </tr>\n",
       "    <tr>\n",
       "      <th>mean</th>\n",
       "      <td>79.915917</td>\n",
       "      <td>2.992156</td>\n",
       "      <td>24.440940</td>\n",
       "      <td>60.108784</td>\n",
       "      <td>90.88695</td>\n",
       "      <td>38.155665</td>\n",
       "      <td>3.641059</td>\n",
       "      <td>3.025894</td>\n",
       "    </tr>\n",
       "    <tr>\n",
       "      <th>std</th>\n",
       "      <td>87.183569</td>\n",
       "      <td>5.421650</td>\n",
       "      <td>22.752006</td>\n",
       "      <td>64.021437</td>\n",
       "      <td>99.13587</td>\n",
       "      <td>59.406136</td>\n",
       "      <td>6.539440</td>\n",
       "      <td>2.846238</td>\n",
       "    </tr>\n",
       "    <tr>\n",
       "      <th>min</th>\n",
       "      <td>4.970000</td>\n",
       "      <td>-32.820000</td>\n",
       "      <td>-19.190000</td>\n",
       "      <td>3.520000</td>\n",
       "      <td>5.85000</td>\n",
       "      <td>2.820000</td>\n",
       "      <td>-1.440000</td>\n",
       "      <td>0.220000</td>\n",
       "    </tr>\n",
       "    <tr>\n",
       "      <th>25%</th>\n",
       "      <td>39.120000</td>\n",
       "      <td>1.387500</td>\n",
       "      <td>10.140000</td>\n",
       "      <td>29.827500</td>\n",
       "      <td>46.44750</td>\n",
       "      <td>10.582500</td>\n",
       "      <td>0.927343</td>\n",
       "      <td>1.217500</td>\n",
       "    </tr>\n",
       "    <tr>\n",
       "      <th>50%</th>\n",
       "      <td>64.105000</td>\n",
       "      <td>2.770000</td>\n",
       "      <td>19.095000</td>\n",
       "      <td>47.290000</td>\n",
       "      <td>73.72000</td>\n",
       "      <td>18.235000</td>\n",
       "      <td>1.605000</td>\n",
       "      <td>2.190000</td>\n",
       "    </tr>\n",
       "    <tr>\n",
       "      <th>75%</th>\n",
       "      <td>96.732500</td>\n",
       "      <td>4.652500</td>\n",
       "      <td>33.880000</td>\n",
       "      <td>74.707500</td>\n",
       "      <td>106.71500</td>\n",
       "      <td>35.452500</td>\n",
       "      <td>3.642500</td>\n",
       "      <td>3.532500</td>\n",
       "    </tr>\n",
       "    <tr>\n",
       "      <th>max</th>\n",
       "      <td>1329.460000</td>\n",
       "      <td>50.810000</td>\n",
       "      <td>182.370000</td>\n",
       "      <td>954.020000</td>\n",
       "      <td>1476.52000</td>\n",
       "      <td>529.560000</td>\n",
       "      <td>78.500000</td>\n",
       "      <td>17.630000</td>\n",
       "    </tr>\n",
       "  </tbody>\n",
       "</table>\n",
       "</div>"
      ],
      "text/plain": [
       "             Price  Earnings/Share  Book Value  52 week low  52 week high  \\\n",
       "count   436.000000      436.000000  436.000000   436.000000     436.00000   \n",
       "mean     79.915917        2.992156   24.440940    60.108784      90.88695   \n",
       "std      87.183569        5.421650   22.752006    64.021437      99.13587   \n",
       "min       4.970000      -32.820000  -19.190000     3.520000       5.85000   \n",
       "25%      39.120000        1.387500   10.140000    29.827500      46.44750   \n",
       "50%      64.105000        2.770000   19.095000    47.290000      73.72000   \n",
       "75%      96.732500        4.652500   33.880000    74.707500     106.71500   \n",
       "max    1329.460000       50.810000  182.370000   954.020000    1476.52000   \n",
       "\n",
       "       Market Cap      EBITDA  Price/Sales  \n",
       "count  436.000000  436.000000   436.000000  \n",
       "mean    38.155665    3.641059     3.025894  \n",
       "std     59.406136    6.539440     2.846238  \n",
       "min      2.820000   -1.440000     0.220000  \n",
       "25%     10.582500    0.927343     1.217500  \n",
       "50%     18.235000    1.605000     2.190000  \n",
       "75%     35.452500    3.642500     3.532500  \n",
       "max    529.560000   78.500000    17.630000  "
      ]
     },
     "execution_count": 5,
     "metadata": {},
     "output_type": "execute_result"
    }
   ],
   "source": [
    "sp.describe()"
   ]
  },
  {
   "cell_type": "code",
   "execution_count": 6,
   "metadata": {
    "collapsed": true
   },
   "outputs": [],
   "source": [
    "sp.set_index(sp['Name'],inplace=True)"
   ]
  },
  {
   "cell_type": "code",
   "execution_count": 7,
   "metadata": {},
   "outputs": [
    {
     "data": {
      "image/png": "[encoded data removed]",
      "text/plain": [
       "<matplotlib.figure.Figure at 0x1108e1e90>"
      ]
     },
     "metadata": {},
     "output_type": "display_data"
    }
   ],
   "source": [
    "sp.plot()\n",
    "plt.show()"
   ]
  },
  {
   "cell_type": "code",
   "execution_count": 8,
   "metadata": {},
   "outputs": [
    {
     "name": "stdout",
     "output_type": "stream",
     "text": [
      "[[ 79.91591743   2.99215596  24.44094037 ...,  38.15566514   3.64105888\n",
      "    3.0258945 ]\n",
      " [ 79.91591743   2.99215596  24.44094037 ...,  38.15566514   3.64105888\n",
      "    3.0258945 ]\n",
      " [ 79.91591743   2.99215596  24.44094037 ...,  38.15566514   3.64105888\n",
      "    3.0258945 ]\n",
      " ..., \n",
      " [ 79.91591743   2.99215596  24.44094037 ...,  38.15566514   3.64105888\n",
      "    3.0258945 ]\n",
      " [ 79.91591743   2.99215596  24.44094037 ...,  38.15566514   3.64105888\n",
      "    3.0258945 ]\n",
      " [ 79.91591743   2.99215596  24.44094037 ...,  38.15566514   3.64105888\n",
      "    3.0258945 ]]\n"
     ]
    }
   ],
   "source": [
    "sp_mean = np.mean(sp,0)\n",
    "sp_mean_mat = np.matlib.repmat(sp_mean,sp_dim[0],1)\n",
    "print(sp_mean_mat)"
   ]
  },
  {
   "cell_type": "code",
   "execution_count": 9,
   "metadata": {
    "collapsed": true
   },
   "outputs": [],
   "source": [
    "sp.drop(sp.columns[[0, 1,2]], axis=1, inplace=True)"
   ]
  },
  {
   "cell_type": "code",
   "execution_count": 10,
   "metadata": {},
   "outputs": [
    {
     "name": "stdout",
     "output_type": "stream",
     "text": [
      "                                 Price  Earnings/Share  Book Value  \\\n",
      "Name                                                                 \n",
      "3M Company                    1.114936        0.883097   -0.224197   \n",
      "Abbott Laboratories          -0.436159       -0.253088   -0.454507   \n",
      "AbbVie                       -0.180721        0.062314   -0.948090   \n",
      "Accenture plc                 0.403678        0.540028   -0.570980   \n",
      "Activision Blizzard          -0.443041       -0.347156   -0.577133   \n",
      "Acuity Brands Inc             2.118565        0.576917    0.530022   \n",
      "Adobe Systems Inc             0.193547       -0.225421   -0.435607   \n",
      "Advance Auto Parts            0.974198        0.628562    0.500134   \n",
      "AES Corp                     -0.775329       -0.472579   -0.860625   \n",
      "Aetna Inc                     0.425356        0.672829    1.033714   \n",
      "Apple Inc.                    0.192285        1.104432   -0.027731   \n",
      "Applied Materials Inc        -0.630691       -0.352689   -0.809201   \n",
      "Archer-Daniels-Midland Co    -0.417922       -0.070487    0.265869   \n",
      "Arthur J. Gallagher & Co.    -0.358048       -0.151643   -0.181564   \n",
      "Assurant Inc                  0.074717        0.294715    2.128562   \n",
      "AT&T Inc                     -0.427901       -0.116598   -0.192991   \n",
      "Bank of America Corp         -0.765579       -0.317644   -0.058058   \n",
      "Bard (C.R.) Inc.              1.824703       -0.278911   -0.199145   \n",
      "Baxter International Inc.    -0.381562        0.763208   -0.355175   \n",
      "BB&T Corporation             -0.512664       -0.079709    0.338390   \n",
      "Becton Dickinson              1.097960        0.137937    0.513760   \n",
      "Bed Bath & Beyond            -0.406681        0.388783   -0.338473   \n",
      "Campbell Soup                -0.146999       -0.144265   -0.836012   \n",
      "Capital One Financial        -0.174413        0.720785    2.931129   \n",
      "Cardinal Health Inc.          0.005323        0.219093   -0.169257   \n",
      "Carmax Inc                   -0.312512        0.012514   -0.395611   \n",
      "Carnival Corp.               -0.405993       -0.016998    0.270265   \n",
      "Caterpillar Inc.             -0.029202       -0.201443    0.105883   \n",
      "CBRE Group                   -0.616124       -0.258622   -0.703276   \n",
      "CBS Corp.                    -0.261929        0.023580   -0.543290   \n",
      "...                                ...             ...         ...   \n",
      "Visa Inc.                    -0.040098       -0.022531   -0.537137   \n",
      "Vornado Realty Trust          0.235642       -0.083398    0.147638   \n",
      "Vulcan Materials              0.501173       -0.171932    0.382782   \n",
      "Wal-Mart Stores              -0.069691        0.281804   -0.016743   \n",
      "Walgreens Boots Alliance      0.021611       -0.018842    0.180602   \n",
      "Waste Management Inc.        -0.141150       -0.087087   -0.551202   \n",
      "Waters Corporation            0.764067        0.492072    0.067205   \n",
      "Wells Fargo                  -0.368486        0.198804    0.447392   \n",
      "Welltower Inc.               -0.049274       -0.146110    0.590676   \n",
      "Western Digital              -0.350593        0.101047    0.738355   \n",
      "Western Union Co             -0.692171       -0.256777   -0.963473   \n",
      "Westrock Co                  -0.474469       -0.653335    0.849554   \n",
      "Weyerhaeuser Corp.           -0.564853       -0.402489   -0.479559   \n",
      "Whirlpool Corp.               1.049098        1.178210    1.677173   \n",
      "Whole Foods Market           -0.531475       -0.280755   -0.629876   \n",
      "Williams Cos.                -0.675883       -0.725269   -0.740635   \n",
      "Willis Towers Watson          0.517805        0.311316    2.466994   \n",
      "Wisconsin Energy Corporation -0.170742       -0.059420    0.153791   \n",
      "Wyndham Worldwide            -0.086781        0.370338   -0.745470   \n",
      "Wynn Resorts Ltd              0.112797        0.018047   -1.110713   \n",
      "Xcel Energy Inc              -0.405190       -0.162710   -0.150797   \n",
      "Xerox Corp.                  -0.807215       -0.505779   -0.678223   \n",
      "Xilinx Inc                   -0.377891       -0.173777   -0.625481   \n",
      "XL Capital                   -0.538013        0.180359    0.720335   \n",
      "Xylem Inc.                   -0.384315       -0.203288   -0.543730   \n",
      "Yahoo Inc.                   -0.483760       -1.429852    0.245651   \n",
      "Yum! Brands Inc               0.067032        0.006980   -1.057531   \n",
      "Zimmer Biomet Holdings        0.515855       -0.476268    1.058327   \n",
      "Zions Bancorp                -0.632871       -0.328711    0.386298   \n",
      "Zoetis                       -0.360342       -0.411712   -0.970945   \n",
      "\n",
      "                              52 week low  52 week high  Market Cap  \\\n",
      "Name                                                                  \n",
      "3M Company                       1.154164      0.876606    1.166114   \n",
      "Abbott Laboratories             -0.376574     -0.394882    0.393635   \n",
      "AbbVie                          -0.228967     -0.194551    1.104504   \n",
      "Accenture plc                    0.442371      0.301536    0.563988   \n",
      "Activision Blizzard             -0.563386     -0.499990   -0.129207   \n",
      "Acuity Brands Inc                1.690390      1.757316   -0.448534   \n",
      "Adobe Systems Inc                0.174336      0.097574    0.169584   \n",
      "Advance Auto Parts               1.116520      1.113150   -0.438602   \n",
      "AES Corp                        -0.810491     -0.781825   -0.505599   \n",
      "Aetna Inc                        0.504694      0.348845    0.048216   \n",
      "Apple Inc.                       0.458615      0.424499    8.271946   \n",
      "Applied Materials Inc           -0.716304     -0.664915   -0.185261   \n",
      "Archer-Daniels-Midland Co       -0.472479     -0.417477   -0.212195   \n",
      "Arthur J. Gallagher & Co.       -0.377198     -0.424942   -0.497014   \n",
      "Assurant Inc                     0.066403     -0.016815   -0.552227   \n",
      "AT&T Inc                        -0.455141     -0.474066    3.773252   \n",
      "Bank of America Corp            -0.767224     -0.730381    1.689124   \n",
      "Bard (C.R.) Inc.                 1.750995      1.497471   -0.347366   \n",
      "Baxter International Inc.       -0.436241     -0.443199   -0.208660   \n",
      "BB&T Corporation                -0.471073     -0.494140   -0.178360   \n",
      "Becton Dickinson                 1.074034      0.860970   -0.014909   \n",
      "Bed Bath & Beyond               -0.296132     -0.213817   -0.529165   \n",
      "Campbell Soup                   -0.232403     -0.231974   -0.293668   \n",
      "Capital One Financial           -0.032470      0.012236   -0.071973   \n",
      "Cardinal Health Inc.             0.205263      0.003460   -0.201421   \n",
      "Carmax Inc                      -0.294570     -0.220878   -0.472605   \n",
      "Carnival Corp.                  -0.305972     -0.354231   -0.083925   \n",
      "Caterpillar Inc.                -0.058555     -0.060492    0.118074   \n",
      "CBRE Group                      -0.583692     -0.525813   -0.494994   \n",
      "CBS Corp.                       -0.337368     -0.332846   -0.206976   \n",
      "...                                   ...           ...         ...   \n",
      "Visa Inc.                       -0.001699     -0.092368    2.426085   \n",
      "Vornado Realty Trust             0.293671      0.126322   -0.323126   \n",
      "Vulcan Materials                 0.292421      0.336841   -0.365209   \n",
      "Wal-Mart Stores                 -0.059492     -0.168929    3.231557   \n",
      "Walgreens Boots Alliance         0.177928      0.064690    0.847965   \n",
      "Waste Management Inc.           -0.196165     -0.205647   -0.136613   \n",
      "Waters Corporation               0.810529      0.565618   -0.442642   \n",
      "Wells Fargo                     -0.243806     -0.323969    3.441973   \n",
      "Welltower Inc.                  -0.114162     -0.138264   -0.187786   \n",
      "Western Digital                 -0.392350     -0.024481   -0.448702   \n",
      "Western Union Co                -0.688657     -0.708794   -0.480517   \n",
      "Westrock Co                     -0.474510     -0.263749   -0.480180   \n",
      "Weyerhaeuser Corp.              -0.594313     -0.586740   -0.256635   \n",
      "Whirlpool Corp.                  0.991718      1.035983   -0.423116   \n",
      "Whole Foods Market              -0.500438     -0.493433   -0.460822   \n",
      "Williams Cos.                   -0.779251     -0.323969   -0.377161   \n",
      "Willis Towers Watson             0.687289      0.391514   -0.350901   \n",
      "Wisconsin Energy Corporation    -0.220376     -0.250030   -0.296698   \n",
      "Wyndham Worldwide                0.007516     -0.035880   -0.505935   \n",
      "Wynn Resorts Ltd                -0.158678      0.195924   -0.489102   \n",
      "Xcel Energy Inc                 -0.432336     -0.458633   -0.261011   \n",
      "Xerox Corp.                     -0.806430     -0.801193   -0.479675   \n",
      "Xilinx Inc                      -0.333932     -0.405171   -0.441632   \n",
      "XL Capital                      -0.539644     -0.508463   -0.484052   \n",
      "Xylem Inc.                      -0.471854     -0.446024   -0.502569   \n",
      "Yahoo Inc.                      -0.530428     -0.513507   -0.039317   \n",
      "Yum! Brands Inc                  0.069839      0.014556   -0.054130   \n",
      "Zimmer Biomet Holdings           0.439872      0.343902   -0.223473   \n",
      "Zions Bancorp                   -0.631957     -0.589766   -0.557109   \n",
      "Zoetis                          -0.349551     -0.408499   -0.237108   \n",
      "\n",
      "                                 EBITDA  Price/Sales  \n",
      "Name                                                  \n",
      "3M Company                     0.753725     0.173599  \n",
      "Abbott Laboratories            0.116056    -0.016125  \n",
      "AbbVie                         1.018274     0.451159  \n",
      "Accenture plc                  0.272033    -0.300711  \n",
      "Activision Blizzard           -0.313644     1.101140  \n",
      "Acuity Brands Inc             -0.474744     0.177113  \n",
      "Adobe Systems Inc             -0.322820     2.074354  \n",
      "Advance Auto Parts            -0.367166    -0.634485  \n",
      "AES Corp                      -0.010866    -0.869883  \n",
      "Aetna Inc                      0.268974    -0.827722  \n",
      "Apple Inc.                    11.447301    -0.251523  \n",
      "Applied Materials Inc         -0.254006    -0.089906  \n",
      "Archer-Daniels-Midland Co     -0.156139    -0.929611  \n",
      "Arthur J. Gallagher & Co.     -0.429725    -0.508002  \n",
      "Assurant Inc                  -0.461961    -0.876910  \n",
      "AT&T Inc                       7.052430    -0.472868  \n",
      "Bank of America Corp          -0.556785    -0.444761  \n",
      "Bard (C.R.) Inc.              -0.397749     0.711151  \n",
      "Baxter International Inc.     -0.315174    -0.163688  \n",
      "BB&T Corporation              -0.556785    -0.040718  \n",
      "Becton Dickinson              -0.070504    -0.009098  \n",
      "Bed Bath & Beyond             -0.305999    -0.873397  \n",
      "Campbell Soup                 -0.313644    -0.153148  \n",
      "Capital One Financial         -0.556785    -0.458814  \n",
      "Cardinal Health Inc.          -0.088855    -0.985826  \n",
      "Carmax Inc                    -0.374812    -0.841776  \n",
      "Carnival Corp.                 0.077826    -0.342872  \n",
      "Caterpillar Inc.               0.386721    -0.711780  \n",
      "CBRE Group                    -0.388574    -0.813669  \n",
      "CBS Corp.                     -0.064388    -0.434220  \n",
      "...                                 ...          ...  \n",
      "Visa Inc.                      0.915819     3.311074  \n",
      "Vornado Realty Trust          -0.370224     1.550856  \n",
      "Vulcan Materials              -0.419468     0.546021  \n",
      "Wal-Mart Stores                4.523161    -0.897990  \n",
      "Walgreens Boots Alliance       0.707850    -0.803128  \n",
      "Waste Management Inc.         -0.027687    -0.262063  \n",
      "Waters Corporation            -0.455585     0.907902  \n",
      "Wells Fargo                   -0.556785    -0.072339  \n",
      "Welltower Inc.                -0.249419     1.333025  \n",
      "Western Digital               -0.217306    -0.753941  \n",
      "Western Union Co              -0.345757    -0.462328  \n",
      "Westrock Co                   -0.211189    -0.827722  \n",
      "Weyerhaeuser Corp.            -0.325878     0.040090  \n",
      "Whirlpool Corp.               -0.237185    -0.845289  \n",
      "Whole Foods Market            -0.344228    -0.820695  \n",
      "Williams Cos.                 -0.061329    -0.328818  \n",
      "Willis Towers Watson          -0.379399     0.159546  \n",
      "Wisconsin Energy Corporation  -0.229539    -0.002071  \n",
      "Wyndham Worldwide             -0.365637    -0.560703  \n",
      "Wynn Resorts Ltd              -0.410411    -0.265577  \n",
      "Xcel Energy Inc               -0.032275    -0.332331  \n",
      "Xerox Corp.                   -0.292236    -0.876910  \n",
      "Xilinx Inc                    -0.443882     0.777906  \n",
      "XL Capital                    -0.313644    -0.753941  \n",
      "Xylem Inc.                    -0.465339    -0.279630  \n",
      "Yahoo Inc.                    -0.519252     1.526262  \n",
      "Yum! Brands Inc               -0.102617    -0.142607  \n",
      "Zimmer Biomet Holdings        -0.154609     0.198193  \n",
      "Zions Bancorp                 -0.556785    -0.205849  \n",
      "Zoetis                        -0.322820     0.658450  \n",
      "\n",
      "[436 rows x 8 columns]\n"
     ]
    }
   ],
   "source": [
    "k = (sp - sp_mean_mat)/sp.std()\n",
    "print(k)"
   ]
  },
  {
   "cell_type": "code",
   "execution_count": 11,
   "metadata": {
    "collapsed": true
   },
   "outputs": [],
   "source": [
    "from sklearn.decomposition import PCA"
   ]
  },
  {
   "cell_type": "code",
   "execution_count": 12,
   "metadata": {},
   "outputs": [
    {
     "name": "stdout",
     "output_type": "stream",
     "text": [
      "[[  4.99993190e-01   3.48795839e-01   3.21854584e-01   5.04604469e-01\n",
      "    4.97034326e-01   5.42506676e-02   1.94222977e-02   1.40601381e-01]\n",
      " [ -3.25030645e-02   6.74905203e-02  -6.75376623e-02  -2.83802653e-02\n",
      "   -4.35699190e-02   6.98830408e-01   7.06177272e-01  -8.55498626e-03]\n",
      " [  7.82176603e-02  -3.73915968e-01  -2.79689456e-01   5.40739722e-02\n",
      "    5.58937831e-02   1.07004071e-01  -7.71741453e-02   8.67403496e-01]\n",
      " [ -1.15821459e-01  -3.90532809e-01   8.82708798e-01  -1.15279898e-01\n",
      "   -1.11968790e-01   1.14170368e-01  -6.57806085e-03   1.26451904e-01]\n",
      " [ -2.45978235e-01   7.61294561e-01   1.74375999e-01  -2.22056912e-01\n",
      "   -2.92970979e-01   1.44914322e-02  -1.03554661e-01   4.28303016e-01]\n",
      " [  1.81850864e-02   9.91506710e-03  -6.28036591e-02   1.22828736e-02\n",
      "    1.23038630e-03   6.95489534e-01  -6.95814370e-01  -1.66165528e-01]\n",
      " [ -6.79965021e-01   2.46083808e-02  -8.77118654e-04  -6.94141650e-02\n",
      "    7.28842189e-01   1.62557070e-02  -7.32111723e-03   2.63461508e-02]\n",
      " [  4.54124795e-01   3.44118667e-02   9.75805562e-03  -8.21021908e-01\n",
      "    3.44024667e-01   5.31415137e-03   1.58449242e-03   5.52973854e-03]]\n"
     ]
    }
   ],
   "source": [
    "pca = PCA()\n",
    "pca.fit(k)\n",
    "print(pca.components_)"
   ]
  },
  {
   "cell_type": "code",
   "execution_count": 13,
   "metadata": {},
   "outputs": [
    {
     "name": "stdout",
     "output_type": "stream",
     "text": [
      "[ 3.7575554   1.81953596  1.0910765   0.64371348  0.48968794  0.16405003\n",
      "  0.0258893   0.00849141]\n"
     ]
    }
   ],
   "source": [
    "print(pca.explained_variance_)"
   ]
  },
  {
   "cell_type": "code",
   "execution_count": 14,
   "metadata": {},
   "outputs": [
    {
     "data": {
      "image/png": "[encoded data removed]",
      "text/plain": [
       "<matplotlib.figure.Figure at 0x1a1adf3b10>"
      ]
     },
     "metadata": {},
     "output_type": "display_data"
    }
   ],
   "source": [
    "ax = plt.plot(pca.explained_variance_, marker='o')\n",
    "\n",
    "plt.xlabel(\"PC\")\n",
    "plt.ylabel(\"Variances\")\n",
    "plt.grid(True)\n",
    "plt.show()"
   ]
  },
  {
   "cell_type": "code",
   "execution_count": 15,
   "metadata": {
    "collapsed": true
   },
   "outputs": [],
   "source": [
    "components = pca.components_.T"
   ]
  },
  {
   "cell_type": "code",
   "execution_count": 16,
   "metadata": {},
   "outputs": [
    {
     "name": "stdout",
     "output_type": "stream",
     "text": [
      "[[  4.99993190e-01  -3.25030645e-02   7.82176603e-02  -1.15821459e-01\n",
      "   -2.45978235e-01   1.81850864e-02  -6.79965021e-01   4.54124795e-01]\n",
      " [  3.48795839e-01   6.74905203e-02  -3.73915968e-01  -3.90532809e-01\n",
      "    7.61294561e-01   9.91506710e-03   2.46083808e-02   3.44118667e-02]\n",
      " [  3.21854584e-01  -6.75376623e-02  -2.79689456e-01   8.82708798e-01\n",
      "    1.74375999e-01  -6.28036591e-02  -8.77118654e-04   9.75805562e-03]\n",
      " [  5.04604469e-01  -2.83802653e-02   5.40739722e-02  -1.15279898e-01\n",
      "   -2.22056912e-01   1.22828736e-02  -6.94141650e-02  -8.21021908e-01]\n",
      " [  4.97034326e-01  -4.35699190e-02   5.58937831e-02  -1.11968790e-01\n",
      "   -2.92970979e-01   1.23038630e-03   7.28842189e-01   3.44024667e-01]\n",
      " [  5.42506676e-02   6.98830408e-01   1.07004071e-01   1.14170368e-01\n",
      "    1.44914322e-02   6.95489534e-01   1.62557070e-02   5.31415137e-03]\n",
      " [  1.94222977e-02   7.06177272e-01  -7.71741453e-02  -6.57806085e-03\n",
      "   -1.03554661e-01  -6.95814370e-01  -7.32111723e-03   1.58449242e-03]\n",
      " [  1.40601381e-01  -8.55498626e-03   8.67403496e-01   1.26451904e-01\n",
      "    4.28303016e-01  -1.66165528e-01   2.63461508e-02   5.52973854e-03]]\n"
     ]
    }
   ],
   "source": [
    "print(components)"
   ]
  },
  {
   "cell_type": "code",
   "execution_count": 16,
   "metadata": {},
   "outputs": [
    {
     "name": "stdout",
     "output_type": "stream",
     "text": [
      "[[ 1.91373106  1.31324905  0.14830782 ...,  0.31608766 -0.15938575\n",
      "  -0.1031473 ]\n",
      " [-0.81758651  0.41286216  0.16438235 ...,  0.20868741  0.03420095\n",
      "  -0.03570238]\n",
      " [-0.44287669  1.57616948  0.6354184  ...,  0.03849771  0.02173181\n",
      "   0.04185714]\n",
      " ..., \n",
      " [ 0.83806348 -0.41490169  0.12537071 ..., -0.13675871 -0.14057384\n",
      "  -0.01496948]\n",
      " [-0.98875444 -0.76482508 -0.29696898 ..., -0.01335636  0.0255193\n",
      "   0.01603107]\n",
      " [-0.94225259 -0.32207947  0.92627284 ..., -0.00414753 -0.021871\n",
      "  -0.03895761]]\n"
     ]
    }
   ],
   "source": [
    "newdata1 = pca.transform(k)\n",
    "print(newdata1)"
   ]
  },
  {
   "cell_type": "code",
   "execution_count": 17,
   "metadata": {},
   "outputs": [
    {
     "name": "stdout",
     "output_type": "stream",
     "text": [
      "[ 0.46969442  0.227442    0.13638456  0.08046418  0.06121099  0.02050625\n",
      "  0.00323616  0.00106143]\n"
     ]
    }
   ],
   "source": [
    "print(pca.explained_variance_ratio_)"
   ]
  },
  {
   "cell_type": "code",
   "execution_count": 18,
   "metadata": {},
   "outputs": [
    {
     "name": "stdout",
     "output_type": "stream",
     "text": [
      "[ 0.46969442  0.69713642  0.83352098  0.91398517  0.97519616  0.99570241\n",
      "  0.99893857  1.        ]\n"
     ]
    }
   ],
   "source": [
    "curatio = np.cumsum(pca.explained_variance_)/np.sum(pca.explained_variance_)\n",
    "print(curatio)"
   ]
  },
  {
   "cell_type": "code",
   "execution_count": 19,
   "metadata": {},
   "outputs": [
    {
     "name": "stdout",
     "output_type": "stream",
     "text": [
      "(4, 8)\n"
     ]
    }
   ],
   "source": [
    "n = 4\n",
    "reduced_data = newdata1[:n]\n",
    "d_dim=reduced_data.shape\n",
    "print(d_dim)"
   ]
  },
  {
   "cell_type": "code",
   "execution_count": 20,
   "metadata": {},
   "outputs": [
    {
     "name": "stdout",
     "output_type": "stream",
     "text": [
      "[[ 1.91373106  1.31324905  0.14830782 -0.75298768]\n",
      " [-0.81758651  0.41286216  0.16438235 -0.12207639]\n",
      " [-0.44287669  1.57616948  0.6354184  -0.6156591 ]\n",
      " ..., \n",
      " [ 0.83806348 -0.41490169  0.12537071  0.97179578]\n",
      " [-0.98875444 -0.76482508 -0.29696898  0.59557588]\n",
      " [-0.94225259 -0.32207947  0.92627284 -0.5101887 ]]\n"
     ]
    }
   ],
   "source": [
    "a = newdata1[:,:4]\n",
    "print(a)"
   ]
  },
  {
   "cell_type": "code",
   "execution_count": 21,
   "metadata": {},
   "outputs": [
    {
     "data": {
      "image/png": "[encoded data removed]",
      "text/plain": [
       "<matplotlib.figure.Figure at 0x1109b1a90>"
      ]
     },
     "metadata": {},
     "output_type": "display_data"
    }
   ],
   "source": [
    "xvector = pca.components_[0] \n",
    "yvector = pca.components_[1]\n",
    "\n",
    "xs = pca.transform(k)[:,0] \n",
    "ys = pca.transform(k)[:,1]\n",
    "\n",
    "\n",
    "## visualize projections\n",
    "\n",
    "for i in range(len(xs)):\n",
    "# circles project documents (ie rows from csv) as points onto PC axes\n",
    "    plt.plot(xs[i], ys[i], 'bo',alpha=0.3)\n",
    "    plt.text(xs[i]*1.2, ys[i]*1.2, list(k.index)[i], color='g',alpha=0.5)\n",
    "\n",
    "for i in range(len(xvector)):\n",
    "# arrows project features (ie columns from csv) as vectors onto PC axes\n",
    "    plt.arrow(0, 0, xvector[i]*max(xs), yvector[i]*max(ys),\n",
    "              color='r', width=0.0005, head_width=0.0025)\n",
    "    plt.text(xvector[i]*max(xs)*1.2, yvector[i]*max(ys)*1.2,\n",
    "             list(k.columns.values)[i], color='r')\n",
    "\n",
    "plt.show()"
   ]
  },
  {
   "cell_type": "code",
   "execution_count": 22,
   "metadata": {},
   "outputs": [
    {
     "data": {
      "text/plain": [
       "<matplotlib.figure.Figure at 0x1a131b1610>"
      ]
     },
     "metadata": {},
     "output_type": "display_data"
    },
    {
     "data": {
      "image/png": "[encoded data removed]",
      "text/plain": [
       "<matplotlib.figure.Figure at 0x1a12a38810>"
      ]
     },
     "metadata": {},
     "output_type": "display_data"
    }
   ],
   "source": [
    "import matplotlib.pylab as plt\n",
    "from mpl_toolkits.mplot3d import Axes3D\n",
    "from matplotlib import cm\n",
    "\n",
    "label =k.columns.values\n",
    "\n",
    "pca = PCA(n_components=3)\n",
    "pca.fit(k)\n",
    "newdata1 = pca.transform(k)\n",
    "\n",
    "plt.clf()\n",
    "fig = plt.figure()\n",
    "ax = Axes3D(fig)\n",
    "\n",
    "ax.scatter(newdata1[:,0],newdata1[:,1],newdata1[:,2], cmap= cm.coolwarm)\n",
    "ax.set_xlabel('PC 1')\n",
    "ax.set_ylabel('PC 2')\n",
    "ax.set_zlabel('PC 3')\n",
    "ax.set_title('PCA 3D plot', color='r')\n",
    "plt.show()"
   ]
  },
  {
   "cell_type": "code",
   "execution_count": 24,
   "metadata": {
    "collapsed": true
   },
   "outputs": [],
   "source": [
    "df = pd.DataFrame(a, index=sp.index, columns=['PC1','PC2','PC3','PC4'])"
   ]
  },
  {
   "cell_type": "code",
   "execution_count": 25,
   "metadata": {},
   "outputs": [
    {
     "name": "stdout",
     "output_type": "stream",
     "text": [
      "                                   PC1        PC2       PC3       PC4\n",
      "Name                                                                 \n",
      "3M Company                    1.913731   1.313249  0.148308 -0.752988\n",
      "Abbott Laboratories          -0.817587   0.412862  0.164382 -0.122076\n",
      "AbbVie                       -0.442877   1.576169  0.635418 -0.615659\n",
      "Accenture plc                 0.573119   0.625004 -0.191361 -0.821846\n",
      "Activision Blizzard          -0.919436  -0.253480  1.163673 -0.075068\n",
      "Acuity Brands Inc             3.148858  -0.840477  0.133650 -0.420148\n",
      "Adobe Systems Inc             0.308999  -0.128487  2.078504 -0.066128\n",
      "Advance Auto Parts            1.863842  -0.663572 -0.745070 -0.298077\n",
      "AES Corp                     -1.777007  -0.245063 -0.538560 -0.472002\n",
      "Aetna Inc                     1.099580   0.162967 -1.194209  0.402269\n",
      "Apple Inc.                    1.550574  13.905314 -0.558118  0.258838\n",
      "Applied Materials Inc        -1.418363  -0.207424  0.154766 -0.377329\n",
      "Archer-Daniels-Midland Co    -0.739137  -0.228128 -0.946580  0.271078\n",
      "Arthur J. Gallagher & Co.    -0.798633  -0.603559 -0.425332 -0.086668\n",
      "Assurant Inc                  0.688165  -0.832086 -1.481114  1.578482\n",
      "AT&T Inc                     -0.506835   7.673819 -0.537681  0.354897\n",
      "Bank of America Corp         -1.244145   0.851991 -0.169256  0.471968\n",
      "Bard (C.R.) Inc.              2.452233  -0.709336  1.091476 -0.594843\n",
      "Baxter International Inc.    -0.519760  -0.247396 -0.404231 -0.509914\n",
      "BB&T Corporation             -0.684744  -0.494155 -0.169466  0.476991\n",
      "Becton Dickinson              1.728877  -0.189199 -0.007235  0.049859\n",
      "Bed Bath & Beyond            -0.589827  -0.498377 -0.901073 -0.514269\n",
      "Campbell Soup                -0.669019  -0.357196  0.110677 -0.662654\n",
      "Capital One Financial         1.018068  -0.582819 -1.466742  2.265844\n",
      "Cardinal Health Inc.         -0.021361  -0.175004 -0.892678 -0.406706\n",
      "Carmax Inc                   -0.688917  -0.532049 -0.698553 -0.417147\n",
      "Carnival Corp.               -0.503646   0.017156 -0.449729  0.313710\n",
      "Caterpillar Inc.             -0.196559   0.346197 -0.597734  0.109971\n",
      "CBRE Group                   -1.329301  -0.523814 -0.544500 -0.479112\n",
      "CBS Corp.                    -0.706803  -0.115522 -0.308021 -0.460394\n",
      "...                                ...        ...       ...       ...\n",
      "Visa Inc.                     0.367391   2.353958  3.211226  0.239501\n",
      "Vornado Realty Trust          0.540554  -0.537619  1.370477  0.249253\n",
      "Vulcan Materials              0.677604  -0.632830  0.497982  0.305666\n",
      "Wal-Mart Stores               0.080980   5.491610 -0.901000  0.134654\n",
      "Walgreens Boots Alliance      0.131127   1.077282 -0.689068  0.127119\n",
      "Waste Management Inc.        -0.524351  -0.062315 -0.086210 -0.439105\n",
      "Waters Corporation            1.360210  -0.682633  0.707728 -0.310846\n",
      "Wells Fargo                  -0.089208   2.028999  0.088947  0.811823\n",
      "Welltower Inc.                0.160577  -0.357657  1.027097  0.761569\n",
      "Western Digital              -0.247123  -0.480023 -0.979513  0.555731\n",
      "Western Union Co             -1.543324  -0.455346 -0.191268 -0.622315\n",
      "Westrock Co                  -0.708742  -0.538711 -0.823883  0.986144\n",
      "Weyerhaeuser Corp.           -1.183296  -0.343800  0.207974 -0.088582\n",
      "Whirlpool Corp.               2.344237  -0.597086 -1.476228  0.514860\n",
      "Whole Foods Market           -1.211242  -0.481534 -0.549681 -0.425983\n",
      "Williams Cos.                -1.451407  -0.244797  0.044384 -0.250373\n",
      "Willis Towers Watson          1.698930  -0.713506 -0.576726  1.855626\n",
      "Wisconsin Energy Corporation -0.312919  -0.361118 -0.075872  0.199509\n",
      "Wyndham Worldwide            -0.281576  -0.527458 -0.450637 -0.915720\n",
      "Wynn Resorts Ltd             -0.349330  -0.560817  0.064075 -1.090917\n",
      "Xcel Energy Inc              -0.815508  -0.157726 -0.291394  0.006944\n",
      "Xerox Corp.                  -1.758447  -0.438378 -0.562125 -0.288713\n",
      "Xilinx Inc                   -0.743962  -0.558812  0.831415 -0.305756\n",
      "XL Capital                   -0.637639  -0.534830 -1.050153  0.598327\n",
      "Xylem Inc.                   -0.973470  -0.609112 -0.112834 -0.341394\n",
      "Yahoo Inc.                   -0.982050  -0.467158  1.730466  1.141842\n",
      "Yum! Brands Inc              -0.286925  -0.041975  0.181432 -0.977200\n",
      "Zimmer Biomet Holdings        0.838063  -0.414902  0.125371  0.971796\n",
      "Zions Bancorp                -0.988754  -0.764825 -0.296969  0.595576\n",
      "Zoetis                       -0.942253  -0.322079  0.926273 -0.510189\n",
      "\n",
      "[436 rows x 4 columns]\n"
     ]
    }
   ],
   "source": [
    "print(df)"
   ]
  },
  {
   "cell_type": "code",
   "execution_count": 36,
   "metadata": {},
   "outputs": [
    {
     "name": "stdout",
     "output_type": "stream",
     "text": [
      "                                 PC1\n",
      "Name                                \n",
      "Priceline.com Inc          26.679119\n",
      "Intuitive Surgical Inc.    12.079441\n",
      "Chipotle Mexican Grill      8.571340\n",
      "Regeneron                   7.068450\n",
      "Equinix                     5.590963\n",
      "Mohawk Industries           5.521334\n",
      "Intercontinental Exchange   5.422021\n",
      "Essex Property Trust Inc    4.117385\n",
      "Goldman Sachs Group         4.090275\n",
      "Public Storage              4.019150\n",
      "Sherwin-Williams            3.943448\n",
      "O'Reilly Automotive         3.768844\n",
      "Acuity Brands Inc           3.148858\n",
      "Grainger (W.W.) Inc.        3.144230\n",
      "Lockheed Martin Corp.       3.065146\n",
      "Simon Property Group Inc    2.871335\n",
      "TransDigm Group             2.753396\n",
      "Northrop Grumman Corp.      2.750947\n",
      "McKesson Corp.              2.590612\n",
      "Humana Inc.                 2.485572\n"
     ]
    }
   ],
   "source": [
    "#find the top 20 stocks with largest PC1 values\n",
    "a1 = df.nlargest(20,'PC1')\n",
    "a1.drop(a1.columns[[1,2,3]], axis=1, inplace=True)\n",
    "print(a1)"
   ]
  },
  {
   "cell_type": "code",
   "execution_count": 38,
   "metadata": {},
   "outputs": [
    {
     "name": "stdout",
     "output_type": "stream",
     "text": [
      "                                   PC2\n",
      "Name                                  \n",
      "Apple Inc.                   13.905314\n",
      "AT&T Inc                      7.673819\n",
      "Verizon Communications        7.253754\n",
      "Microsoft Corp.               7.194483\n",
      "Exxon Mobil Corp.             6.661341\n",
      "Johnson & Johnson             5.514875\n",
      "Wal-Mart Stores               5.491610\n",
      "General Electric              4.381443\n",
      "Facebook                      4.053852\n",
      "Procter & Gamble              3.923302\n",
      "Pfizer Inc.                   3.918523\n",
      "Comcast A Corp                3.839504\n",
      "Intel Corp.                   3.620484\n",
      "Gilead Sciences               3.113772\n",
      "Chevron Corp.                 3.033529\n",
      "International Bus. Machines   3.021627\n",
      "The Walt Disney Company       2.858437\n",
      "The Coca Cola Company         2.852287\n",
      "Oracle Corp.                  2.803072\n",
      "Merck & Co.                   2.691384\n"
     ]
    }
   ],
   "source": [
    "#find the top 20 stocks with largest PC2 values\n",
    "a2 = df.nlargest(20,'PC2')\n",
    "a2.drop(a2.columns[[0,2,3]], axis=1, inplace=True)\n",
    "print(a2)"
   ]
  },
  {
   "cell_type": "code",
   "execution_count": 39,
   "metadata": {},
   "outputs": [
    {
     "name": "stdout",
     "output_type": "stream",
     "text": [
      "                                PC4\n",
      "Name                               \n",
      "Goldman Sachs Group        4.987559\n",
      "Intercontinental Exchange  2.810496\n",
      "Hess Corporation           2.794701\n",
      "Prudential Financial       2.693062\n",
      "Chevron Corp.              2.480595\n",
      "Chubb Limited              2.437559\n",
      "Essex Property Trust Inc   2.383644\n",
      "M&T Bank Corp.             2.266725\n",
      "Capital One Financial      2.265844\n",
      "Devon Energy Corp.         2.180474\n",
      "Cimarex Energy             2.061792\n",
      "PNC Financial Services     1.930454\n",
      "Citigroup Inc.             1.923347\n",
      "Willis Towers Watson       1.855626\n",
      "SL Green Realty            1.794051\n",
      "Perrigo                    1.785283\n",
      "Concho Resources           1.773281\n",
      "Pioneer Natural Resources  1.703481\n",
      "MetLife Inc.               1.641094\n",
      "JPMorgan Chase & Co.       1.627491\n"
     ]
    }
   ],
   "source": [
    "#find the top 20 stocks with largest PCk values\n",
    "#k =4\n",
    "*a3 = df.nlargest(20,'PC4')\n",
    "a3.drop(a3.columns[[0,1,2]], axis=1, inplace=True)\n",
    "print(a3)"
   ]
  },
  {
   "cell_type": "code",
   "execution_count": 40,
   "metadata": {},
   "outputs": [
    {
     "name": "stdout",
     "output_type": "stream",
     "text": [
      "                                   PC1        PC2       PC3       PC4  \\\n",
      "Name                                                                    \n",
      "3M Company                    1.913731   1.313249  0.148308 -0.752988   \n",
      "Abbott Laboratories          -0.817587   0.412862  0.164382 -0.122076   \n",
      "AbbVie                       -0.442877   1.576169  0.635418 -0.615659   \n",
      "Accenture plc                 0.573119   0.625004 -0.191361 -0.821846   \n",
      "Activision Blizzard          -0.919436  -0.253480  1.163673 -0.075068   \n",
      "Acuity Brands Inc             3.148858  -0.840477  0.133650 -0.420148   \n",
      "Adobe Systems Inc             0.308999  -0.128487  2.078504 -0.066128   \n",
      "Advance Auto Parts            1.863842  -0.663572 -0.745070 -0.298077   \n",
      "AES Corp                     -1.777007  -0.245063 -0.538560 -0.472002   \n",
      "Aetna Inc                     1.099580   0.162967 -1.194209  0.402269   \n",
      "Apple Inc.                    1.550574  13.905314 -0.558118  0.258838   \n",
      "Applied Materials Inc        -1.418363  -0.207424  0.154766 -0.377329   \n",
      "Archer-Daniels-Midland Co    -0.739137  -0.228128 -0.946580  0.271078   \n",
      "Arthur J. Gallagher & Co.    -0.798633  -0.603559 -0.425332 -0.086668   \n",
      "Assurant Inc                  0.688165  -0.832086 -1.481114  1.578482   \n",
      "AT&T Inc                     -0.506835   7.673819 -0.537681  0.354897   \n",
      "Bank of America Corp         -1.244145   0.851991 -0.169256  0.471968   \n",
      "Bard (C.R.) Inc.              2.452233  -0.709336  1.091476 -0.594843   \n",
      "Baxter International Inc.    -0.519760  -0.247396 -0.404231 -0.509914   \n",
      "BB&T Corporation             -0.684744  -0.494155 -0.169466  0.476991   \n",
      "Becton Dickinson              1.728877  -0.189199 -0.007235  0.049859   \n",
      "Bed Bath & Beyond            -0.589827  -0.498377 -0.901073 -0.514269   \n",
      "Campbell Soup                -0.669019  -0.357196  0.110677 -0.662654   \n",
      "Capital One Financial         1.018068  -0.582819 -1.466742  2.265844   \n",
      "Cardinal Health Inc.         -0.021361  -0.175004 -0.892678 -0.406706   \n",
      "Carmax Inc                   -0.688917  -0.532049 -0.698553 -0.417147   \n",
      "Carnival Corp.               -0.503646   0.017156 -0.449729  0.313710   \n",
      "Caterpillar Inc.             -0.196559   0.346197 -0.597734  0.109971   \n",
      "CBRE Group                   -1.329301  -0.523814 -0.544500 -0.479112   \n",
      "CBS Corp.                    -0.706803  -0.115522 -0.308021 -0.460394   \n",
      "...                                ...        ...       ...       ...   \n",
      "Visa Inc.                     0.367391   2.353958  3.211226  0.239501   \n",
      "Vornado Realty Trust          0.540554  -0.537619  1.370477  0.249253   \n",
      "Vulcan Materials              0.677604  -0.632830  0.497982  0.305666   \n",
      "Wal-Mart Stores               0.080980   5.491610 -0.901000  0.134654   \n",
      "Walgreens Boots Alliance      0.131127   1.077282 -0.689068  0.127119   \n",
      "Waste Management Inc.        -0.524351  -0.062315 -0.086210 -0.439105   \n",
      "Waters Corporation            1.360210  -0.682633  0.707728 -0.310846   \n",
      "Wells Fargo                  -0.089208   2.028999  0.088947  0.811823   \n",
      "Welltower Inc.                0.160577  -0.357657  1.027097  0.761569   \n",
      "Western Digital              -0.247123  -0.480023 -0.979513  0.555731   \n",
      "Western Union Co             -1.543324  -0.455346 -0.191268 -0.622315   \n",
      "Westrock Co                  -0.708742  -0.538711 -0.823883  0.986144   \n",
      "Weyerhaeuser Corp.           -1.183296  -0.343800  0.207974 -0.088582   \n",
      "Whirlpool Corp.               2.344237  -0.597086 -1.476228  0.514860   \n",
      "Whole Foods Market           -1.211242  -0.481534 -0.549681 -0.425983   \n",
      "Williams Cos.                -1.451407  -0.244797  0.044384 -0.250373   \n",
      "Willis Towers Watson          1.698930  -0.713506 -0.576726  1.855626   \n",
      "Wisconsin Energy Corporation -0.312919  -0.361118 -0.075872  0.199509   \n",
      "Wyndham Worldwide            -0.281576  -0.527458 -0.450637 -0.915720   \n",
      "Wynn Resorts Ltd             -0.349330  -0.560817  0.064075 -1.090917   \n",
      "Xcel Energy Inc              -0.815508  -0.157726 -0.291394  0.006944   \n",
      "Xerox Corp.                  -1.758447  -0.438378 -0.562125 -0.288713   \n",
      "Xilinx Inc                   -0.743962  -0.558812  0.831415 -0.305756   \n",
      "XL Capital                   -0.637639  -0.534830 -1.050153  0.598327   \n",
      "Xylem Inc.                   -0.973470  -0.609112 -0.112834 -0.341394   \n",
      "Yahoo Inc.                   -0.982050  -0.467158  1.730466  1.141842   \n",
      "Yum! Brands Inc              -0.286925  -0.041975  0.181432 -0.977200   \n",
      "Zimmer Biomet Holdings        0.838063  -0.414902  0.125371  0.971796   \n",
      "Zions Bancorp                -0.988754  -0.764825 -0.296969  0.595576   \n",
      "Zoetis                       -0.942253  -0.322079  0.926273 -0.510189   \n",
      "\n",
      "                                  score  \n",
      "Name                                     \n",
      "3M Company                     2.444581  \n",
      "Abbott Laboratories            0.938524  \n",
      "AbbVie                         1.860979  \n",
      "Accenture plc                  1.196305  \n",
      "Activision Blizzard            1.506447  \n",
      "Acuity Brands Inc              3.288783  \n",
      "Adobe Systems Inc              2.106310  \n",
      "Advance Auto Parts             2.134998  \n",
      "AES Corp                       1.931487  \n",
      "Aetna Inc                      1.680354  \n",
      "Apple Inc.                    14.005018  \n",
      "Applied Materials Inc          1.490338  \n",
      "Archer-Daniels-Midland Co      1.252144  \n",
      "Arthur J. Gallagher & Co.      1.091108  \n",
      "Assurant Inc                   2.418934  \n",
      "AT&T Inc                       7.717476  \n",
      "Bank of America Corp           1.589083  \n",
      "Bard (C.R.) Inc.               2.839325  \n",
      "Baxter International Inc.      0.868775  \n",
      "BB&T Corporation               0.984531  \n",
      "Becton Dickinson               1.739928  \n",
      "Bed Bath & Beyond              1.293321  \n",
      "Campbell Soup                  1.013181  \n",
      "Capital One Financial          2.943046  \n",
      "Cardinal Health Inc.           0.996678  \n",
      "Carmax Inc                     1.191500  \n",
      "Carnival Corp.                 0.744731  \n",
      "Caterpillar Inc.               0.726544  \n",
      "CBRE Group                     1.602327  \n",
      "CBS Corp.                      0.905403  \n",
      "...                                 ...  \n",
      "Visa Inc.                      4.005675  \n",
      "Vornado Realty Trust           1.587944  \n",
      "Vulcan Materials               1.095920  \n",
      "Wal-Mart Stores                5.567250  \n",
      "Walgreens Boots Alliance       1.291784  \n",
      "Waste Management Inc.          0.692151  \n",
      "Waters Corporation             1.706945  \n",
      "Wells Fargo                    2.189009  \n",
      "Welltower Inc.                 1.337392  \n",
      "Western Digital                1.248910  \n",
      "Western Union Co               1.735813  \n",
      "Westrock Co                    1.563262  \n",
      "Weyerhaeuser Corp.             1.252792  \n",
      "Whirlpool Corp.                2.880328  \n",
      "Whole Foods Market             1.477360  \n",
      "Williams Cos.                  1.493708  \n",
      "Willis Towers Watson           2.677949  \n",
      "Wisconsin Energy Corporation   0.523340  \n",
      "Wyndham Worldwide              1.182841  \n",
      "Wynn Resorts Ltd               1.277009  \n",
      "Xcel Energy Inc                0.880278  \n",
      "Xerox Corp.                    1.919284  \n",
      "Xilinx Inc                     1.284713  \n",
      "XL Capital                     1.467461  \n",
      "Xylem Inc.                     1.203305  \n",
      "Yahoo Inc.                     2.341149  \n",
      "Yum! Brands Inc                1.035338  \n",
      "Zimmer Biomet Holdings         1.354474  \n",
      "Zions Bancorp                  1.416155  \n",
      "Zoetis                         1.452532  \n",
      "\n",
      "[436 rows x 5 columns]\n"
     ]
    }
   ],
   "source": [
    "df['score'] = np.sqrt(df['PC1']**2 + df['PC2']**2 + df['PC3']**2 + df['PC4']**2)\n",
    "print(df)"
   ]
  },
  {
   "cell_type": "code",
   "execution_count": 41,
   "metadata": {},
   "outputs": [
    {
     "name": "stdout",
     "output_type": "stream",
     "text": [
      "                                score\n",
      "Name                                 \n",
      "Priceline.com Inc           26.805013\n",
      "Apple Inc.                  14.005018\n",
      "Intuitive Surgical Inc.     12.264442\n",
      "Chipotle Mexican Grill       8.746220\n",
      "AT&T Inc                     7.717476\n",
      "Regeneron                    7.495627\n",
      "Verizon Communications       7.301487\n",
      "Microsoft Corp.              7.297508\n",
      "Mohawk Industries            7.145055\n",
      "Goldman Sachs Group          6.835879\n",
      "Exxon Mobil Corp.            6.813602\n",
      "Facebook                     6.536992\n",
      "Intercontinental Exchange    6.144262\n",
      "Public Storage               6.104067\n",
      "Equinix                      6.100360\n",
      "Johnson & Johnson            5.702941\n",
      "Wal-Mart Stores              5.567250\n",
      "Essex Property Trust Inc     5.309462\n",
      "Vertex Pharmaceuticals Inc   5.045041\n",
      "Devon Energy Corp.           4.526737\n"
     ]
    }
   ],
   "source": [
    "#find the top 20 stocks with largest score values\n",
    "a4 = df.nlargest(20,'score')\n",
    "a4.drop(a4.columns[[0,1,2,3]], axis=1, inplace=True)\n",
    "print(a4)"
   ]
  },
  {
   "cell_type": "code",
   "execution_count": null,
   "metadata": {
    "collapsed": true
   },
   "outputs": [],
   "source": []
  }
 ],
 "metadata": {
  "kernelspec": {
   "display_name": "Python 2",
   "language": "python",
   "name": "python2"
  },
  "language_info": {
   "codemirror_mode": {
    "name": "ipython",
    "version": 2
   },
   "file_extension": ".py",
   "mimetype": "text/x-python",
   "name": "python",
   "nbconvert_exporter": "python",
   "pygments_lexer": "ipython2",
   "version": "2.7.14"
  }
 },
 "nbformat": 4,
 "nbformat_minor": 2
}
